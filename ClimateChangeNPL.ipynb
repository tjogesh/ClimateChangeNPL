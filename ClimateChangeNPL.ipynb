{
 "cells": [
  {
   "cell_type": "markdown",
   "metadata": {},
   "source": [
    "# Climate Change India NLP\n",
    "The primary goal of this script is to analyze the sentiment of climate change news articles published in India from 2013- 2016. To do this, I will first use a data set from Jogesh 2012, that has manually coded sentiments to train my model. I will then fit this model to the new data.\n",
    "\n",
    "1. Data clean up\n",
    "2. Use weblinks to get newsarticle content and text using the newspaper library\n",
    "3. Use NLP to clean the text data \n",
    "4. Use machine learning to associate words to sentiments in training data\n",
    "5. Apply this to test data "
   ]
  },
  {
   "cell_type": "code",
   "execution_count": 38,
   "metadata": {
    "collapsed": false
   },
   "outputs": [
    {
     "name": "stdout",
     "output_type": "stream",
     "text": [
      "   num  num2                                                url       codes  \\\n",
      "0    1   NaN  http://www.indianexpress.com/news/the-green-co...         NaN   \n",
      "1    2   2.0  http://www.indianexpress.com/news/china-and-in...  S,A6,D1,T1   \n",
      "2    3   3.0  http://www.financialexpress.com/news/climate-t...     S,A1,T7   \n",
      "3    4   4.0  http://www.livemint.com/2009/08/31211415/Tech-...    GP,A6,T2   \n",
      "4    5   5.0  http://lite.epaper.timesofindia.com/getpage.as...  S,A6,D1,T6   \n",
      "\n",
      "        sentiment  ind  \n",
      "0             NaN    0  \n",
      "1         Science    1  \n",
      "2         Science    2  \n",
      "3  GlobalPolitics    3  \n",
      "4         Science    4  \n",
      "    new_sentiment  ind\n",
      "0            None    0\n",
      "1         Science    1\n",
      "2         Science    2\n",
      "3  GlobalPolitics    3\n",
      "4         Science    4\n"
     ]
    }
   ],
   "source": [
    "#The data weblinks first need to extracted from excel files which I did in R -- \n",
    "#no idea how to read excel files in python!. \n",
    "\n",
    "import pandas as pd\n",
    "df = pd.read_csv('cleanURLData.csv')\n",
    "df.columns = ['num','num2','url','codes']\n",
    "\n",
    "#Write a function to replace codes with sentiments\n",
    "\n",
    "#make the separators consistant + to , and remove spaces\n",
    "df['codes'] = df['codes'].replace(['\\+'],', ', regex=True)\n",
    "df['codes'] = df['codes'].replace([' '],'', regex=True)\n",
    "\n",
    "#split comma separated codes into individual categories\n",
    "splitcodes=df['codes'].str.split(',', expand=True)\n",
    "\n",
    "\n",
    "#create new df \n",
    "sentiment = splitcodes\n",
    "\n",
    "#change codes to real sentiments \n",
    "#obj =splitcodes[0].replace(['^S'], 'Science', regex=True)\n",
    "sentiment=splitcodes.replace(['^S'], 'Science', regex=True)\n",
    "sentiment=sentiment.replace(['^GP'], 'GlobalPolitics', regex=True)\n",
    "sentiment=sentiment.replace(['^IS'], 'IndianScience', regex=True)\n",
    "sentiment=sentiment.replace(['^IP'], 'IndianPolitics', regex=True)\n",
    "sentiment=sentiment.replace(['^BZ'], 'Buisness', regex=True)\n",
    "sentiment=sentiment.replace(['^TD'], 'Trends', regex=True)\n",
    "\n",
    "#append sentiment to main df\n",
    "df['sentiment']=sentiment[0]\n",
    "df['ind'] = df.index\n",
    "\n",
    "\n",
    "#replacing all the other unassigned values for sentiment with NONE\n",
    "newsent=[]\n",
    "for x in df['sentiment']:\n",
    "    if x != 'Science' and x !='GlobalPolitics' and x !='IndianScience' and x !='IndianPolitics' and x !='Buisness'  :\n",
    "        newsent.append(None)\n",
    "    else:\n",
    "        newsent.append(x)\n",
    "        \n",
    "newSentiment= pd.DataFrame(newsent)\n",
    "newSentiment['ind'] = newSentiment.index\n",
    "newSentiment.columns = ['new_sentiment','ind']\n",
    "print(df.head())\n",
    "print(newSentiment.head())\n"
   ]
  },
  {
   "cell_type": "markdown",
   "metadata": {},
   "source": [
    "## Extract Newspaper data from html links\n"
   ]
  },
  {
   "cell_type": "code",
   "execution_count": 39,
   "metadata": {
    "collapsed": false
   },
   "outputs": [
    {
     "name": "stdout",
     "output_type": "stream",
     "text": [
      "(0, u'Few creatures would seem as beneficent as the cow. Properly grazed and groomed, it gives us burgers and milk, boot leather and fertiliser. Lately, however, radical green groups and celebrity vegans like Paul McCartney have made cows out to be weapons of mass destruction: not only has their meat caused an epidemic of hypertension and heart disease, but they also trample rainforests, trash the soil, and foul the air with greenhouse gases.\\n\\nScientists say that every year, the average Holstein produces up to 180 kg of methane, which traps 25 times more heat than does carbon dioxide. All told, bringing meat from the pasture to the griddle produces 18 per cent of global greenhouse-gas emissions, according to the United Nations. Last year, Rajendra Pachauri, the chair of the UN\\'s Intergovernmental Panel on Climate Change, called upon everyone to give up eating meat at least one day a week, giving birth to the global meatless Monday. \"If anyone wants to save the planet, all they have to do is just stop eating meat,\" McCartney famously said.\\n\\nPerhaps. But since 1960, worldwide production of meat has quadrupled to more than 280 million tonnes a year. Even if everyone in the rich nations swore off meat today, consumption would continue to soar, driven by the protein-hungry rising middle classes of China, Brazil, and other developing nations. For this reason, serious environmental planners have recently focused not on eliminating the meat industry but on turning it green.\\n\\nIt\\'s a tall order. Making beef, pork, or chicken can be an environmentally devastating process, from felling forests for pastures to the fossil fuel required to produce fertiliser for feed crops. Compared with tofu production, meat-making gobbles up 17 times as much land, 26 times as much water, 20 times the fossil fuels, and 6 times as many chemicals, according to Plenty magazine. And among animal proteins, beef is the real hog; producing a kilo of beef takes up seven times more farmland than it does to produce a kilo of chicken and 15 times the area needed for a kilo of pork. Yet scientists, herders, and green groups are convinced they can curb the damage by making adjustments all along the supply chain, changing the way we farm and feed livestock and building a cleaner cow through modern genetics. Suddenly, the search for what food activist and author Michael Pollan calls \"green meat\" has become a worldwide effort.\\n\\nThe effort starts with the beast itself. When a cow eats, its stomach produces methane as a byproduct. Cows are pretty efficient at eating grass, but the soybeans and corn that most industrial livestock farms feed them make the bovine stomach rumble with excess gas. To fight this, some farms in Vermont and France have begun to roll back the clock. The owners of the Stonyfield Farm in Vermont, US, found they could improve health and boost milk production in the herds, and reduce methane emissions, by eliminating the soybean-and corn-based feed that became popular during the bumper harvests of the Green Revolution. Instead, they give their cows old-fashioned flax and alfalfa, which are packed with nutrients and benign fatty acids. This tactic, widely used in France, is now being replicated elsewhere in the US. In Canada, where cattle grazing accounts for 72 per cent of total greenhouse-gas emissions, scientists are tinkering with the chemistry of feed\\x97adjusting the balance of key nutrients such as cellulose, ash, fat, sugar, and starch\\x97as another way of lowering the cow\\'s carbon footprint.\\n\\nThe more ambitious projects involve tinkering with the cow\\'s genetic code. Researchers at the University of Alberta, Canada, are examining the DNA in cows\\' four stomachs to identify the genes responsible for making them burp and regulating how much gas they produce. In time, they hope to be able to breed cleaner cows, which could reduce emissions from cows by 25per cent, says Stephen Moore, professor of beef-cattle genomics at Alberta. Researchers at Colorado State University have identified DNA markers that they believe will help them selectively breed animals to digest their food more efficiently and so produce less methane.\\n\\nCutting down forests to make room for livestock farms is another big reason meat is environmentally unsound. Brazil has in recent years risen as an agricultural powerhouse, but it now ranks as the fourth-biggest emitter of greenhouse gases, thanks mainly to the destruction of the Amazon rainforest.\\n\\nMany leaders in business and government are embracing the green agenda. Brazilian meatpackers like Marfrig, food sellers like Wal-Mart, footwear companies such as Timberland, and thousands of ranchers have signed on to a moratorium on using beef from recently deforested areas. \"For years, the way to produce cattle was to chop down the forest to plant pastures,\" says Ocimar Vilela, head of environmental sustainability at Marfrig. \"Now customers are demanding we change, and these demands are here to stay.\"\\n\\nNo matter how green the business gets, meat will still weigh heavily on the planet. Brazilians today eat 89 kg of red meat and poultry a year, nearly triple the per capita consumption 15 years ago, while the average Chinese citizen consumes close to two and a half times more meat than he did in 1990. Even India is getting a taste for red meat\\x97its beef consumption jumped 36 per cent in the past decade. Overall meat consumption in poorer countries is growing by more than 5 per cent a year, twice the world rate, making meat the most coveted agricultural commodity in recent history. Although meat is a health problem in the West, to many poor nations it\\'s a boon. \"Even small additional amounts of meat and milk can provide the same level of nutrients, protein, and calories to the poor that a large and diverse amount of vegetables and cereals could provide,\" concludes a study by the International Food Policy Research Center in Washington. \"Who is going to tell the developing world\\'s new consumers, \\'Sorry, you can\\'t eat beef\\'?\" says Paulo Adario, an expert in the livestock industry at Greenpeace. Of course, with green beef, you might not have to.\\n\\nALSO READ \\x91India dangerous weak link in n-security\\x92\\n\\nPlease read our terms of use before posting comments', u'Indian Express', u'http://www.indianexpress.com', [], None)\n"
     ]
    }
   ],
   "source": [
    "from newspaper import Article\t\n",
    "import requests\n",
    "\n",
    "\n",
    "def html_to_text( urls, ind ):\n",
    "    ###for newspaper articles, this extracts the content from the html links using the Newspaper\n",
    "    ###library http://newspaper.readthedocs.io/en/latest/\n",
    "    request = requests.get(urls)\n",
    "    if request.status_code == 200:\n",
    "        a = Article(urls)  \n",
    "        a.download()\n",
    "        a.parse()\n",
    "        #a.nlp() #takes to long and not nessesary for now\n",
    "        text = a.text\n",
    "        title = a.title\n",
    "        authors = a.authors\n",
    "        date = a.publish_date\n",
    "        sourceurl = a.source_url\n",
    "        #keywords = a.keywords\n",
    "        data =(ind,text,title,sourceurl,authors,date)\n",
    "    else:\n",
    "        data =('NA','NA','NA','NA','NA')\n",
    "    return(data)\n",
    "\n",
    "#testing the function on the first link    \n",
    "data =html_to_text(df['url'][0],0)\n",
    "print(data)\n"
   ]
  },
  {
   "cell_type": "code",
   "execution_count": 40,
   "metadata": {
    "collapsed": false
   },
   "outputs": [
    {
     "name": "stdout",
     "output_type": "stream",
     "text": [
      "News Data already downloaded\n",
      "Number of articles: 1342\n",
      "  ind                                               text  \\\n",
      "0   0  Few creatures would seem as beneficent as the ...   \n",
      "1   1  You can see their point. China and India accou...   \n",
      "2   2  Only a squawk from a sandhill crane broke the ...   \n",
      "3   3  Updated: Mon, Aug 31 2009. 10 36 PM IST\\n\\nWe ...   \n",
      "4   5  The the highest concentration of solar home pa...   \n",
      "\n",
      "                                             title  \\\n",
      "0                                   Indian Express   \n",
      "1                         China and India will pay   \n",
      "2  Climate trouble may be bubbling up in far North   \n",
      "3                     Tech support for the climate   \n",
      "4           Where the sun shines on climate change   \n",
      "\n",
      "                             source               author                 date  \\\n",
      "0      http://www.indianexpress.com                   []                 None   \n",
      "1      http://www.indianexpress.com                   []                 None   \n",
      "2   http://www.financialexpress.com   [Associated Press]                 None   \n",
      "3           http://www.livemint.com                   []  2009-08-31 00:00:00   \n",
      "4  http://www.business-standard.com  [Margaret Williams]                 None   \n",
      "\n",
      "   num  num2                                                url  \\\n",
      "0    1   NaN  http://www.indianexpress.com/news/the-green-co...   \n",
      "1    2   2.0  http://www.indianexpress.com/news/china-and-in...   \n",
      "2    3   3.0  http://www.financialexpress.com/news/climate-t...   \n",
      "3    4   4.0  http://www.livemint.com/2009/08/31211415/Tech-...   \n",
      "4    6   6.0  http://www.business-standard.com/india/storypa...   \n",
      "\n",
      "               codes       sentiment   new_sentiment  \n",
      "0                NaN             NaN            None  \n",
      "1         S,A6,D1,T1         Science         Science  \n",
      "2            S,A1,T7         Science         Science  \n",
      "3           GP,A6,T2  GlobalPolitics  GlobalPolitics  \n",
      "4  IP,A5,ID2,ID8,IT4  IndianPolitics  IndianPolitics  \n"
     ]
    }
   ],
   "source": [
    "import os\n",
    "import pickle\n",
    "\n",
    "if os.path.exists(\"news_pickle.p\"):\n",
    "    print(\"News Data already downloaded\")\n",
    "    newsdf = pickle.load(open(\"news_pickle.p\", \"rb\"))\n",
    "else:\n",
    "    Alldata =[]\n",
    "    Narticles = df[\"url\"].size\n",
    "    print \"Extracting data from online news weblinks...\\n\"\n",
    "    for i in xrange(0, Narticles):\n",
    "        try:\n",
    "            Alldata.append(html_to_text(df['url'][i],i))\n",
    "            if( (i+1)%100 == 0 ):\n",
    "                print \"Downloading %d of %d\\n\" % ( i+1, Narticles )\n",
    "        except:\n",
    "            pass\n",
    "        #will return a list of tuples with all the data. \n",
    "        \n",
    "    newsdf = pd.DataFrame(eval('Alldata')) #not sure i understand why i use eval\n",
    "    newsdf.columns = ['ind','text', 'title','source','author','date']\n",
    "\n",
    "    #merges text with original file to asssociate the sentiment\n",
    "    newsdf =pd.merge(newsdf, df, left_on='ind', right_on='ind', how='inner')\n",
    "    pickle.dump(newsdf, open(\"news_pickle.p\", \"wb\"))\n",
    "    #print(newsdf.columns.values)\n",
    "\n",
    "print(\"Number of articles: \"+str(len(newsdf)))\n",
    "#adding the cleaned up sentiment\n",
    "newsdf =pd.merge(newsdf, newSentiment, left_on='ind', right_on='ind', how='inner')\n",
    "print(newsdf.head())"
   ]
  },
  {
   "cell_type": "markdown",
   "metadata": {
    "collapsed": true
   },
   "source": [
    "## Extract meaningful words from news articles\n"
   ]
  },
  {
   "cell_type": "code",
   "execution_count": 41,
   "metadata": {
    "collapsed": false
   },
   "outputs": [
    {
     "name": "stdout",
     "output_type": "stream",
     "text": [
      "creatur seem benefic cow properli graze groom give us burger milk boot leather fertilis late howev radic green group celebr vegan like paul mccartney made cow weapon mass destruct meat caus epidem hypertens heart diseas trampl rainforest trash soil foul air greenhous gase scientist say everi year averag holstein produc kg methan trap time heat carbon dioxid told bring meat pastur griddl produc per cent global greenhous ga emiss accord unit nation last year rajendra pachauri chair un intergovernment panel climat chang call upon everyon give eat meat least day week give birth global meatless monday anyon want save planet stop eat meat mccartney famous perhap sinc worldwid product meat quadrupl million tonn year even everyon rich nation swore meat today consumpt continu soar driven protein hungri rise middl class china brazil develop nation reason seriou environment planner recent focus elimin meat industri turn green tall order make beef pork chicken environment devast process fell forest pastur fossil fuel requir produc fertilis feed crop compar tofu product meat make gobbl time much land time much water time fossil fuel time mani chemic accord plenti magazin among anim protein beef real hog produc kilo beef take seven time farmland produc kilo chicken time area need kilo pork yet scientist herder green group convinc curb damag make adjust along suppli chain chang way farm feed livestock build cleaner cow modern genet suddenli search food activist author michael pollan call green meat becom worldwid effort effort start beast cow eat stomach produc methan byproduct cow pretti effici eat grass soybean corn industri livestock farm feed make bovin stomach rumbl excess ga fight farm vermont franc begun roll back clock owner stonyfield farm vermont us found could improv health boost milk product herd reduc methan emiss elimin soybean corn base feed becam popular bumper harvest green revolut instead give cow old fashion flax alfalfa pack nutrient benign fatti acid tactic wide use franc replic elsewher us canada cattl graze account per cent total greenhous ga emiss scientist tinker chemistri feed adjust balanc key nutrient cellulos ash fat sugar starch anoth way lower cow carbon footprint ambiti project involv tinker cow genet code research univers alberta canada examin dna cow four stomach identifi gene respons make burp regul much ga produc time hope abl breed cleaner cow could reduc emiss cow per cent say stephen moor professor beef cattl genom alberta research colorado state univers identifi dna marker believ help select breed anim digest food effici produc less methan cut forest make room livestock farm anoth big reason meat environment unsound brazil recent year risen agricultur powerhous rank fourth biggest emitt greenhous gase thank mainli destruct amazon rainforest mani leader busi govern embrac green agenda brazilian meatpack like marfrig food seller like wal mart footwear compani timberland thousand rancher sign moratorium use beef recent deforest area year way produc cattl chop forest plant pastur say ocimar vilela head environment sustain marfrig custom demand chang demand stay matter green busi get meat still weigh heavili planet brazilian today eat kg red meat poultri year nearli tripl per capita consumpt year ago averag chines citizen consum close two half time meat even india get tast red meat beef consumpt jump per cent past decad overal meat consumpt poorer countri grow per cent year twice world rate make meat covet agricultur commod recent histori although meat health problem west mani poor nation boon even small addit amount meat milk provid level nutrient protein calori poor larg divers amount veget cereal could provid conclud studi intern food polici research center washington go tell develop world new consum sorri eat beef say paulo adario expert livestock industri greenpeac cours green beef might read india danger weak n secur pleas read term post comment\n"
     ]
    }
   ],
   "source": [
    "import re\n",
    "from bs4 import BeautifulSoup\n",
    "import nltk\n",
    "from nltk.corpus import stopwords\n",
    "from nltk.stem.porter import PorterStemmer\n",
    "porter_stemmer = PorterStemmer()\n",
    "\n",
    "\n",
    "def text_to_words( rawtext ):\n",
    "    # Function to convert a raw review to a string of words\n",
    "    # The input is a single string, and \n",
    "    # the output is a single string\n",
    "    #\n",
    "    # 1. Remove HTML\n",
    "    news_text = BeautifulSoup(rawtext).get_text() \n",
    "    #\n",
    "    # 2. Remove non-letters        \n",
    "    letters_only = re.sub(\"[^a-zA-Z]\", \" \", news_text) \n",
    "    #\n",
    "    # 3. Convert to lower case, split into individual words\n",
    "    words = letters_only.lower().split()\n",
    "    #\n",
    "    # 4. In Python, searching a set is much faster than searching\n",
    "    #   a list, so convert the stop words to a set\n",
    "    stops = set(stopwords.words(\"english\"))\n",
    "    # add additonal words that are prominent but not meaningful\n",
    "    added_stop_words =[\"one\",\"would\",\"also\",\"subscription\",\"subscribe\",\"newsletter\",\"click\",\"thank\",\"email\",\"sent\",\"link\",\"said\",\"use\"]\n",
    "    stops |= set(added_stop_words)\n",
    "    #\n",
    "    # 5. Remove stop words\n",
    "    meaningful_words = [w for w in words if not w in stops]   \n",
    "    #\n",
    "    stemmed_words =[]\n",
    "    for w in meaningful_words: \n",
    "        stemmed_words.append(porter_stemmer.stem(w))   \n",
    "    #\n",
    "    # 6. Join the words back into one string separated by space, \n",
    "    # and return the result.\n",
    "    return( \" \".join( stemmed_words ))  \n",
    "\n",
    "#test function\n",
    "clean_text = text_to_words( newsdf['text'][0] )\n",
    "print(clean_text)\n"
   ]
  },
  {
   "cell_type": "code",
   "execution_count": 42,
   "metadata": {
    "collapsed": false
   },
   "outputs": [
    {
     "name": "stdout",
     "output_type": "stream",
     "text": [
      "Extracting words from 1342 articles\n",
      "Article 100 of 1342\n",
      "\n",
      "Article 200 of 1342\n",
      "\n",
      "Article 300 of 1342\n",
      "\n",
      "Article 400 of 1342\n",
      "\n",
      "Article 500 of 1342\n",
      "\n",
      "Article 600 of 1342\n",
      "\n",
      "Article 700 of 1342\n",
      "\n",
      "Article 800 of 1342\n",
      "\n",
      "Article 900 of 1342\n",
      "\n",
      "Article 1000 of 1342\n",
      "\n",
      "Article 1100 of 1342\n",
      "\n",
      "Article 1200 of 1342\n",
      "\n",
      "Article 1300 of 1342\n",
      "\n",
      "Extracted 1342 articles\n"
     ]
    }
   ],
   "source": [
    "#  the number of articles\n",
    "num_articles = newsdf['text'].size\n",
    "print(\"Extracting words from \"+ str(num_articles)+\" articles\")\n",
    "\n",
    "# Initialize an empty list to hold the clean text\n",
    "clean_news_text = []\n",
    "\n",
    "# Loop over each article text; create an index i that goes from 0 to the length\n",
    "# of the list \n",
    "for i in xrange( 0, num_articles ):\n",
    "    # Call the function for each one, and add the result to the list of\n",
    "    # clean reviews\n",
    "     # If the index is evenly divisible by 1000, print a message\n",
    "    if( (i+1)%100 == 0 ):\n",
    "        print \"Article %d of %d\\n\" % ( i+1, num_articles )  \n",
    "    clean_news_text.append( text_to_words( newsdf[\"text\"][i] ) )\n",
    "    \n",
    "print(\"Extracted \"+ str(len(clean_news_text))+\" articles\")"
   ]
  },
  {
   "cell_type": "markdown",
   "metadata": {},
   "source": [
    "## Use Bag of words to get a numerical representation of words\n",
    "\n"
   ]
  },
  {
   "cell_type": "code",
   "execution_count": 43,
   "metadata": {
    "collapsed": false
   },
   "outputs": [],
   "source": [
    "from sklearn.feature_extraction.text import CountVectorizer\n",
    "\n",
    "# Initialize the \"CountVectorizer\" object, which is scikit-learn's\n",
    "# bag of words tool.  The initializer pretty much just defines the parameters \n",
    "vectorizer = CountVectorizer(analyzer = \"word\",   \\\n",
    "                             tokenizer = None,    \\\n",
    "                             preprocessor = None, \\\n",
    "                             stop_words = None,   \\\n",
    "                             max_features = 1000) \n",
    "\n",
    "#setting the max to 5000 words and I can change this\n",
    "\n",
    "# fit_transform does two functions: First, it fits the model\n",
    "# and learns the vocabulary; second, it transforms our training data\n",
    "# into feature vectors. The input to fit_transform should be a list of \n",
    "# strings.\n",
    "train_data_features = vectorizer.fit_transform(clean_news_text) # this gives a sklearn matrix \n",
    "\n",
    "# Numpy arrays are easy to work with, so convert the result to an \n",
    "# array\n",
    "train_data_features = train_data_features.toarray() # this is an array of words and their instances\n",
    "\n",
    "# Take a look at the words in the vocabulary\n",
    "vocab = vectorizer.get_feature_names()\n",
    "vocab_frame = pd.DataFrame({'words': vocab}) # just converts the list to a dataframe with colum name 'words'\n",
    "\n",
    "import numpy as np\n",
    "\n",
    "# Sum up the counts of each vocabulary word\n",
    "dist = np.sum(train_data_features, axis=0) # summing up the instances of each word in the array\n",
    "\n",
    "# For each, print the vocabulary word and the number of times it \n",
    "# appears in the training set\n",
    "\n",
    "#for tag, count in zip(vocab, dist): #zip makes a tuple and tag and count iterate over this tuple. \n",
    "#    print(count, tag)\n",
    "    \n",
    "    "
   ]
  },
  {
   "cell_type": "markdown",
   "metadata": {},
   "source": [
    "## K-means clustering "
   ]
  },
  {
   "cell_type": "code",
   "execution_count": 44,
   "metadata": {
    "collapsed": false
   },
   "outputs": [
    {
     "name": "stdout",
     "output_type": "stream",
     "text": [
      "(1342, 340)\n",
      "[u'accept', u'accord', u'account', u'achiev', u'across', u'act', u'action', u'activ', u'ad', u'adapt', u'address', u'adopt', u'africa', u'agre', u'agreement', u'ahead', u'allow', u'alreadi', u'among', u'announc', u'anoth', u'approach', u'area', u'around', u'ask', u'atmospher', u'attempt', u'away', u'back', u'base', u'basic', u'becom', u'big', u'billion', u'bind', u'brazil', u'bring', u'build', u'busi', u'call', u'cannot', u'capac', u'capita', u'carbon', u'case', u'caus', u'cent', u'centr', u'challeng', u'chang', u'china', u'clean', u'clear', u'climat', u'close', u'co', u'come', u'comment', u'commit', u'commun', u'compani', u'complet', u'concern', u'confer', u'consid', u'continu', u'contribut', u'convent', u'copenhagen', u'cost', u'could', u'countri', u'creat', u'critic', u'current', u'cut', u'date', u'day', u'deal', u'decemb', u'decis', u'delhi', u'demand', u'develop', u'differ', u'dioxid', u'director', u'discuss', u'domest', u'done', u'due', u'earlier', u'econom', u'economi', u'effect', u'effici', u'effort', u'emerg', u'emiss', u'end', u'energi', u'ensur', u'environ', u'environment', u'european', u'even', u'everi', u'exist', u'expect', u'face', u'fact', u'far', u'final', u'financ', u'financi', u'find', u'first', u'five', u'follow', u'forest', u'framework', u'fuel', u'fund', u'futur', u'ga', u'gase', u'gener', u'get', u'give', u'given', u'global', u'go', u'good', u'govern', u'green', u'greenhous', u'group', u'grow', u'growth', u'head', u'help', u'high', u'hope', u'howev', u'impact', u'implement', u'import', u'includ', u'increas', u'india', u'indian', u'industri', u'initi', u'institut', u'intens', u'interest', u'intern', u'invest', u'issu', u'jairam', u'keep', u'key', u'kyoto', u'larg', u'last', u'lead', u'leader', u'least', u'legal', u'less', u'level', u'like', u'limit', u'line', u'littl', u'long', u'look', u'low', u'made', u'major', u'make', u'manag', u'mani', u'manmohan', u'market', u'may', u'mean', u'measur', u'meet', u'member', u'million', u'minist', u'mitig', u'month', u'move', u'much', u'must', u'nation', u'natur', u'need', u'negoti', u'new', u'next', u'non', u'note', u'number', u'obama', u'offer', u'offici', u'outcom', u'panel', u'part', u'parti', u'past', u'peopl', u'per', u'period', u'place', u'plan', u'pleas', u'pm', u'point', u'polici', u'polit', u'pollut', u'poor', u'posit', u'possibl', u'post', u'power', u'present', u'presid', u'pressur', u'price', u'prime', u'problem', u'process', u'produc', u'product', u'project', u'propos', u'protocol', u'provid', u'public', u'put', u'question', u'ramesh', u'rate', u'reach', u'read', u'reason', u'recent', u'reduc', u'reduct', u'relat', u'remain', u'renew', u'report', u'requir', u'research', u'resourc', u'respons', u'result', u'rich', u'right', u'rise', u'run', u'say', u'scienc', u'scientif', u'scientist', u'second', u'sector', u'secur', u'see', u'seen', u'set', u'sever', u'share', u'shift', u'show', u'sign', u'signific', u'sinc', u'singh', u'small', u'solar', u'sourc', u'south', u'stand', u'start', u'state', u'statement', u'step', u'still', u'studi', u'subscrib', u'suggest', u'summit', u'support', u'sustain', u'system', u'take', u'taken', u'talk', u'target', u'technolog', u'temperatur', u'term', u'though', u'three', u'time', u'today', u'told', u'total', u'toward', u'trade', u'transfer', u'tri', u'two', u'un', u'unfccc', u'union', u'unit', u'updat', u'us', u'use', u'view', u'want', u'warm', u'water', u'way', u'week', u'well', u'within', u'without', u'work', u'world', u'year', u'yet']\n"
     ]
    }
   ],
   "source": [
    "from sklearn.feature_extraction.text import TfidfVectorizer\n",
    "\n",
    "#define vectorizer parameters\n",
    "tfidf_vectorizer = TfidfVectorizer(max_df=0.85, max_features=20000,\n",
    "                                 min_df=0.10, stop_words=None,\n",
    "                                 tokenizer=None)\n",
    "\n",
    "tfidf_matrix = tfidf_vectorizer.fit_transform(clean_news_text) #fit the vectorizer to synopses\n",
    "\n",
    "print(tfidf_matrix.shape)\n",
    "\n",
    "terms = tfidf_vectorizer.get_feature_names()\n",
    "\n",
    "print(terms)\n",
    "\n",
    "from sklearn.metrics.pairwise import cosine_similarity\n",
    "dist = 1 - cosine_similarity(tfidf_matrix)\n"
   ]
  },
  {
   "cell_type": "code",
   "execution_count": 45,
   "metadata": {
    "collapsed": false
   },
   "outputs": [
    {
     "name": "stdout",
     "output_type": "stream",
     "text": [
      "[2, 4, 1, 1, 2, 2, 4, 4, 4, 4]\n",
      "4    493\n",
      "1    397\n",
      "2    251\n",
      "0    181\n",
      "3     20\n",
      "Name: cluster, dtype: int64\n",
      "Top terms per cluster:\n"
     ]
    }
   ],
   "source": [
    "from sklearn.cluster import KMeans\n",
    "num_clusters = 5\n",
    "#splits articles into 5 clusters\n",
    "km = KMeans(n_clusters=num_clusters)\n",
    "#based on the distance matrix of words\n",
    "km.fit(tfidf_matrix)\n",
    "#turns cluster membership to a list\n",
    "clusters = km.labels_.tolist()\n",
    "print(clusters[:10])\n",
    "\n",
    "#make a series so that we can add it to the main df\n",
    "clus = pd.Series(clusters)\n",
    "#Then add the cluster values to the DataFrame:\n",
    "newsdf['cluster'] = clus.values\n",
    "print(newsdf['cluster'].value_counts())\n",
    "\n",
    "print(\"Top terms per cluster:\")\n",
    "\n",
    "#sort cluster centers by proximity to centroid\n",
    "order_centroids = km.cluster_centers_.argsort()[:, ::-1] \n"
   ]
  },
  {
   "cell_type": "code",
   "execution_count": 46,
   "metadata": {
    "collapsed": false
   },
   "outputs": [
    {
     "name": "stdout",
     "output_type": "stream",
     "text": [
      "Cluster 0 :\n",
      " [u'subscrib']\n",
      " [u'complet']\n",
      " [u'process']\n",
      " [u'ga']\n",
      " [u'futur']\n",
      " [u'exist']\n",
      " [u'expect']\n",
      " [u'face']\n",
      " [u'fact']\n",
      " [u'far']\n",
      " [u'final']\n",
      " [u'financ']\n",
      " [u'financi']\n",
      " [u'everi']\n",
      " [u'first']\n",
      " [u'five']\n",
      " [u'follow']\n",
      " [u'forest']\n",
      " [u'framework']\n",
      " [u'fuel']\n",
      "Cluster 1 :\n",
      " [u'climat']\n",
      " [u'chang']\n",
      " [u'report']\n",
      " [u'year']\n",
      " [u'scientist']\n",
      " [u'forest']\n",
      " [u'warm']\n",
      " [u'global']\n",
      " [u'research']\n",
      " [u'peopl']\n",
      " [u'govern']\n",
      " [u'india']\n",
      " [u'water']\n",
      " [u'studi']\n",
      " [u'temperatur']\n",
      " [u'scienc']\n",
      " [u'world']\n",
      " [u'time']\n",
      " [u'say']\n",
      " [u'minist']\n",
      "Cluster 2 :\n",
      " [u'energi']\n",
      " [u'carbon']\n",
      " [u'solar']\n",
      " [u'power']\n",
      " [u'india']\n",
      " [u'emiss']\n",
      " [u'project']\n",
      " [u'effici']\n",
      " [u'per']\n",
      " [u'technolog']\n",
      " [u'compani']\n",
      " [u'climat']\n",
      " [u'develop']\n",
      " [u'chang']\n",
      " [u'intens']\n",
      " [u'industri']\n",
      " [u'gener']\n",
      " [u'renew']\n",
      " [u'govern']\n",
      " [u'countri']\n",
      "Cluster 3 :\n",
      " [u'use']\n",
      " [u'support']\n",
      " [u'yet']\n",
      " [u'find']\n",
      " [u'expect']\n",
      " [u'face']\n",
      " [u'fact']\n",
      " [u'far']\n",
      " [u'final']\n",
      " [u'financ']\n",
      " [u'financi']\n",
      " [u'first']\n",
      " [u'everi']\n",
      " [u'five']\n",
      " [u'follow']\n",
      " [u'forest']\n",
      " [u'framework']\n",
      " [u'fuel']\n",
      " [u'fund']\n",
      " [u'futur']\n",
      "Cluster 4 :\n",
      " [u'countri']\n",
      " [u'develop']\n",
      " [u'india']\n",
      " [u'climat']\n",
      " [u'emiss']\n",
      " [u'chang']\n",
      " [u'copenhagen']\n",
      " [u'negoti']\n",
      " [u'china']\n",
      " [u'nation']\n",
      " [u'us']\n",
      " [u'minist']\n",
      " [u'action']\n",
      " [u'world']\n",
      " [u'commit']\n",
      " [u'ramesh']\n",
      " [u'meet']\n",
      " [u'cut']\n",
      " [u'global']\n",
      " [u'agreement']\n"
     ]
    }
   ],
   "source": [
    "for i in range(num_clusters):\n",
    "    print(\"Cluster %d :\" % i)\n",
    "    \n",
    "    for ind in order_centroids[i, :20]: #replace 6 with n words per cluster\n",
    "        print(' %s' % terms[ind].split(' '))\n",
    "\n"
   ]
  },
  {
   "cell_type": "markdown",
   "metadata": {},
   "source": [
    "## Is cluster membership representative of sentiment? "
   ]
  },
  {
   "cell_type": "code",
   "execution_count": 47,
   "metadata": {
    "collapsed": false
   },
   "outputs": [
    {
     "name": "stdout",
     "output_type": "stream",
     "text": [
      "cluster           0    1   2   3    4\n",
      "new_sentiment                        \n",
      "Buisness         13   54  68   1    5\n",
      "GlobalPolitics  106  152  71  13  423\n",
      "IndianPolitics   43   96  94   4   53\n",
      "IndianScience     2   28   4   0    0\n",
      "Science          13   50   7   2    3\n"
     ]
    }
   ],
   "source": [
    "sentiment_cluster = pd.crosstab(index=newsdf[\"new_sentiment\"], \n",
    "                           columns=newsdf[\"cluster\"])\n",
    "\n",
    "print(sentiment_cluster)"
   ]
  },
  {
   "cell_type": "markdown",
   "metadata": {},
   "source": [
    "## Graph of clusters by year (need to fix -- most articles don't have date of publication)"
   ]
  },
  {
   "cell_type": "code",
   "execution_count": 52,
   "metadata": {
    "collapsed": false
   },
   "outputs": [],
   "source": [
    "#create separate year/month columns\n",
    "\n",
    "import datetime\n",
    "year=[]\n",
    "month=[]\n",
    "for date in newsdf['date']:\n",
    "    try:\n",
    "        d = datetime.datetime.strptime(str(date), \"%Y-%m-%d %H:%M:%S\")\n",
    "        year.append(d.year)\n",
    "        month.append(d.month)\n",
    "    except:\n",
    "        year.append(None)\n",
    "        month.append(None)\n",
    "        pass\n",
    "newsdf['month'] =pd.DataFrame(month) \n",
    "newsdf['year'] =pd.DataFrame(year) \n"
   ]
  },
  {
   "cell_type": "code",
   "execution_count": 66,
   "metadata": {
    "collapsed": false
   },
   "outputs": [
    {
     "name": "stdout",
     "output_type": "stream",
     "text": [
      "cluster        0   1   2   4\n",
      "year   month                \n",
      "2009.0 1.0     0   0   1   0\n",
      "       6.0     1   0   0   0\n",
      "       8.0     0   1   0   0\n",
      "       9.0    19   4  10  16\n",
      "       10.0   31  14   4  18\n",
      "       11.0   35   9  20  17\n",
      "       12.0   79  22   9  41\n",
      "2010.0 1.0     1  37  18  13\n",
      "       2.0     9   2   2   2\n",
      "       3.0     6   7   4   4\n"
     ]
    },
    {
     "data": {
      "text/plain": [
       "<matplotlib.axes._subplots.AxesSubplot at 0x1272fb250>"
      ]
     },
     "execution_count": 66,
     "metadata": {},
     "output_type": "execute_result"
    },
    {
     "data": {
      "image/png": "[encoded data removed]",
      "text/plain": [
       "<matplotlib.figure.Figure at 0x126fb6450>"
      ]
     },
     "metadata": {},
     "output_type": "display_data"
    }
   ],
   "source": [
    "#plot graphs by cluster\n",
    "import seaborn as sns\n",
    "year_month_cluster = pd.crosstab(index=[newsdf[\"year\"],newsdf[\"month\"]], \n",
    "                           columns=newsdf[\"cluster\"])\n",
    "print(year_month_cluster)\n",
    "# now stack and reset\n",
    "stacked = year_month_cluster.stack().reset_index().rename(columns={0:'value'})\n",
    "\n",
    "# plot grouped bar chart\n",
    "sns.barplot(x=(stacked.year), y=stacked.value, hue=stacked.cluster)\n",
    "\n"
   ]
  },
  {
   "cell_type": "code",
   "execution_count": 65,
   "metadata": {
    "collapsed": false
   },
   "outputs": [
    {
     "name": "stdout",
     "output_type": "stream",
     "text": [
      "new_sentiment  Buisness  GlobalPolitics  IndianPolitics  IndianScience  \\\n",
      "year   month                                                             \n",
      "2009.0 1.0            1               0               0              0   \n",
      "       6.0            0               1               0              0   \n",
      "       8.0            0               1               0              0   \n",
      "       9.0            6              32               6              0   \n",
      "       10.0           3              33              21              3   \n",
      "       11.0           6              42              22              3   \n",
      "       12.0          11              98              28              0   \n",
      "2010.0 1.0           12              37              12              6   \n",
      "       2.0            1               7               6              0   \n",
      "       3.0            3               9               3              1   \n",
      "\n",
      "new_sentiment  Science  \n",
      "year   month            \n",
      "2009.0 1.0           0  \n",
      "       6.0           0  \n",
      "       8.0           0  \n",
      "       9.0           5  \n",
      "       10.0          4  \n",
      "       11.0          2  \n",
      "       12.0         13  \n",
      "2010.0 1.0           2  \n",
      "       2.0           0  \n",
      "       3.0           3  \n"
     ]
    },
    {
     "data": {
      "text/plain": [
       "<matplotlib.axes._subplots.AxesSubplot at 0x127022490>"
      ]
     },
     "execution_count": 65,
     "metadata": {},
     "output_type": "execute_result"
    },
    {
     "data": {
      "image/png": "[encoded data removed]",
      "text/plain": [
       "<matplotlib.figure.Figure at 0x12705bf50>"
      ]
     },
     "metadata": {},
     "output_type": "display_data"
    }
   ],
   "source": [
    "#plot graphs by sentiment\n",
    "year_month_sentiment = pd.crosstab(index=[newsdf[\"year\"],newsdf[\"month\"]], \n",
    "                           columns=newsdf[\"new_sentiment\"])\n",
    "print(year_month_sentiment)\n",
    "# now stack and reset\n",
    "stacked2 = year_month_sentiment.stack().reset_index().rename(columns={0:'value'})\n",
    "\n",
    "# plot grouped bar chart\n",
    "sns.barplot(x=(stacked2.year), y=stacked2.value, hue=stacked2.new_sentiment)"
   ]
  },
  {
   "cell_type": "code",
   "execution_count": 68,
   "metadata": {
    "collapsed": false
   },
   "outputs": [
    {
     "name": "stdout",
     "output_type": "stream",
     "text": [
      "cluster                                         0   1   2   3   4\n",
      "source                                                           \n",
      "http://articles.economictimes.indiatimes.com    0  10   7   0   7\n",
      "http://articles.timesofindia.indiatimes.com     0  20   7   0   5\n",
      "http://beta.thehindu.com                        0  23   5   0  19\n",
      "http://blogs.timesofindia.indiatimes.com        0   2   0   0   1\n",
      "http://economictimes.indiatimes.com             0  13  25   0  48\n",
      "http://epaper.business-standard.com             0   0   0  20   0\n",
      "http://epaper.financialexpress.com              0  16   0   0   0\n",
      "http://epaper.hindustantimes.com                0  43   0   0   0\n",
      "http://epaper.indianexpress.com                 0   6   0   0   0\n",
      "http://epaper.timesofindia.com                  0   2   0   0   1\n",
      "http://feeds.bignewsnetwork.com                 0   1   0   0   0\n",
      "http://livemint.com                             0   0   1   0   1\n",
      "http://m.economictimes.com                      0   0   0   0   2\n",
      "http://online.wsj.com                           0   6   1   0   0\n",
      "http://timesofindia.indiatimes.com              0  31  17   0  55\n",
      "http://uk.reuters.com                           0   0   0   0   2\n",
      "http://webcache.googleusercontent.com           0   0   0   0   2\n",
      "http://www.blonnet.com                          0   1   0   0   0\n",
      "http://www.business-standard.com                0  39  37   0  65\n",
      "http://www.financialexpress.com                 0  48  58   0  92\n",
      "http://www.guardian.co.uk                       0   3   0   0   0\n",
      "http://www.heraldtribune.com                    0   2   0   0   0\n",
      "http://www.hindu.com                          131   0   0   0   0\n",
      "http://www.in.com                               0   1   0   0   0\n",
      "http://www.indianexpress.com                    0  48  35   0  91\n",
      "http://www.livemint.com                         0  53  25   0  66\n",
      "http://www.moneycontrol.com                     0   2   0   0   0\n",
      "http://www.nytimes.com                          0   3   1   0   0\n",
      "http://www.pressdisplay.com                     0   2   0   0   0\n",
      "http://www.reuters.com                          0   1   0   0   0\n",
      "http://www.telegraphindia.com                   0   1   0   0   1\n",
      "http://www.thehindu.com                        50   6   3   0   2\n",
      "http://www.thehindubusinessline.com             0  13  28   0  32\n",
      "http://www.thehindubusinessline.in              0   1   1   0   0\n",
      "https://timesofindia.indiatimes.com             0   0   0   0   1\n"
     ]
    }
   ],
   "source": [
    "#plot graphs by source\n",
    "source_cluster = pd.crosstab(index=[newsdf[\"source\"]], \n",
    "                           columns=newsdf[\"cluster\"])\n",
    "print(source_cluster)\n",
    "\n",
    "#clusters 0 and 3 are spurious bc of added text/ads/subsriptions and bad html formatting "
   ]
  },
  {
   "cell_type": "markdown",
   "metadata": {},
   "source": [
    "## MDS plots"
   ]
  },
  {
   "cell_type": "code",
   "execution_count": 11,
   "metadata": {
    "collapsed": false
   },
   "outputs": [
    {
     "name": "stdout",
     "output_type": "stream",
     "text": [
      "()\n",
      "()\n",
      "1342\n"
     ]
    },
    {
     "data": {
      "image/png": "[encoded data removed]",
      "text/plain": [
       "<matplotlib.figure.Figure at 0x1237eb690>"
      ]
     },
     "metadata": {},
     "output_type": "display_data"
    }
   ],
   "source": [
    "#MDS Scaling\n",
    "import os  # for os.path.basename\n",
    "import matplotlib.pyplot as plt\n",
    "import matplotlib as mpl\n",
    "from sklearn.manifold import MDS\n",
    "\n",
    "MDS()\n",
    "# convert two components as we're plotting points in a two-dimensional plane\n",
    "# \"precomputed\" because we provide a distance matrix\n",
    "# we will also specify `random_state` so the plot is reproducible.\n",
    "mds = MDS(n_components=2, dissimilarity=\"precomputed\", random_state=1)\n",
    "pos = mds.fit_transform(dist)  # shape (n_components, n_samples)\n",
    "\n",
    "xs, ys = pos[:, 0], pos[:, 1]\n",
    "print()\n",
    "print()\n",
    "\n",
    "#set up colors per clusters using a dict\n",
    "cluster_colors = {0: '#1b9e77', 1: '#d95f02', 2: '#7570b3', 3: '#e7298a', 4: '#66a61e'}\n",
    "\n",
    "#set up cluster names using a dict\n",
    "cluster_names = {0: 'cluster 0', \n",
    "                 1: 'cluster 1', \n",
    "                 2: 'cluster 2', \n",
    "                 3: 'cluster 3', \n",
    "                 4: 'cluster 4'}\n",
    "                 \n",
    "#some ipython magic to show the matplotlib plots inline\n",
    "#%matplotlib inline \n",
    "\n",
    "#create data frame that has the result of the MDS plus the cluster numbers and titles\n",
    "plotdf = pd.DataFrame(dict(x=xs, y=ys, label=newsdf['cluster'])) \n",
    "print(len(plotdf))\n",
    "\n",
    "#group by cluster\n",
    "groups = plotdf.groupby('label')\n",
    "\n",
    "%matplotlib inline  \n",
    "# set up plot\n",
    "fig, ax = plt.subplots(figsize=(17, 9)) # set size\n",
    "ax.margins(0.05) # Optional, just adds 5% padding to the autoscaling\n",
    "\n",
    "#iterate through groups to layer the plot\n",
    "#note that I use the cluster_name and cluster_color dicts with the 'name' lookup to return the appropriate color/label\n",
    "for name, group in groups:\n",
    "    ax.plot(group.x, group.y, marker='o', linestyle='', ms=12, \n",
    "            label=cluster_names[name], color=cluster_colors[name], \n",
    "            mec='none')\n",
    "    ax.set_aspect('auto')\n",
    "    ax.tick_params(\\\n",
    "        axis= 'x',          # changes apply to the x-axis\n",
    "        which='both',      # both major and minor ticks are affected\n",
    "        bottom='off',      # ticks along the bottom edge are off\n",
    "        top='off',         # ticks along the top edge are off\n",
    "        labelbottom='off')\n",
    "    ax.tick_params(\\\n",
    "        axis= 'y',         # changes apply to the y-axis\n",
    "        which='both',      # both major and minor ticks are affected\n",
    "        left='off',      # ticks along the bottom edge are off\n",
    "        top='off',         # ticks along the top edge are off\n",
    "        labelleft='off')\n",
    "    \n",
    "ax.legend(numpoints=1)  #show legend with only 1 point\n",
    "      \n",
    "plt.show() #show the plot\n",
    "#plt.savefig(\"mds.png\")\n",
    "## whats up with the green?? Need to clean up some words "
   ]
  },
  {
   "cell_type": "markdown",
   "metadata": {},
   "source": [
    "## Here we use a random forest classifier to associate words in the articles with content"
   ]
  },
  {
   "cell_type": "code",
   "execution_count": 13,
   "metadata": {
    "collapsed": false
   },
   "outputs": [
    {
     "name": "stdout",
     "output_type": "stream",
     "text": [
      "(1342, 13)\n",
      "['ind' 'text' 'title' 'source' 'author' 'date' 'num' 'num2' 'url' 'codes'\n",
      " 'sentiment' 'new_sentiment' 'cluster']\n",
      "Training the random forest...\n",
      "<class 'sklearn.ensemble.forest.RandomForestClassifier'>\n"
     ]
    }
   ],
   "source": [
    "\n",
    "from sklearn.ensemble import RandomForestClassifier\n",
    "\n",
    "# Initialize a Random Forest classifier with 100 trees\n",
    "forest = RandomForestClassifier(n_estimators = 100) \n",
    "\n",
    "\n",
    "newsArray=pd.DataFrame.as_matrix(newsdf)\n",
    "print(newsArray.shape)\n",
    "print(newsdf.columns.values)\n",
    "\n",
    "df_sentiment = pd.get_dummies(newsdf['new_sentiment'])\n",
    "# Join the dummy variables to the main dataframe\n",
    "newsdf_merged = pd.concat([newsdf, df_sentiment], axis=1)\n",
    "\n",
    "print \"Training the random forest...\"\n",
    "# Fit the forest to the training set, using the bag of words as \n",
    "# features and the sentiment labels as the response variable\n",
    "#\n",
    "# This may take a few minutes to run\n",
    "forest = forest.fit( train_data_features, newsdf_merged[\"Science\"] )\n",
    "print(type(forest))\n"
   ]
  },
  {
   "cell_type": "code",
   "execution_count": null,
   "metadata": {
    "collapsed": true
   },
   "outputs": [],
   "source": []
  }
 ],
 "metadata": {
  "kernelspec": {
   "display_name": "Python 2",
   "language": "python",
   "name": "python2"
  },
  "language_info": {
   "codemirror_mode": {
    "name": "ipython",
    "version": 2
   },
   "file_extension": ".py",
   "mimetype": "text/x-python",
   "name": "python",
   "nbconvert_exporter": "python",
   "pygments_lexer": "ipython2",
   "version": "2.7.13"
  }
 },
 "nbformat": 4,
 "nbformat_minor": 2
}
