{
 "cells": [
  {
   "cell_type": "code",
   "execution_count": 1,
   "metadata": {},
   "outputs": [],
   "source": [
    "import glob\n",
    "path = '/Users/taniajogesh/Documents/CCNPL/TestData/*.txt' \n",
    "files = glob.glob(path)\n",
    "textlist = []\n",
    "for i in xrange( 0, len(files)):\n",
    "    textlist.append(open(files[i], 'r').read())\n",
    "filenames = glob.glob(path)\n",
    "filenames = [w.replace('/Users/taniajogesh/Documents/CCNPL/TestData/', '') for w in filenames]\n",
    "names = [w.replace('.txt', '') for w in filenames]"
   ]
  },
  {
   "cell_type": "code",
   "execution_count": 2,
   "metadata": {},
   "outputs": [],
   "source": [
    "import re\n",
    "urlList = []\n",
    "r = re.compile(\"https?:\\/\\/*\")\n",
    "for i in xrange( 0, len(textlist)):\n",
    "    urlList.append([x for x in textlist[i].split(\"\\n\") if r.match(x)])"
   ]
  },
  {
   "cell_type": "code",
   "execution_count": 3,
   "metadata": {},
   "outputs": [],
   "source": [
    "urlNames = zip(names,urlList)"
   ]
  },
  {
   "cell_type": "code",
   "execution_count": 4,
   "metadata": {},
   "outputs": [],
   "source": [
    "#urlNamesTupple[5]"
   ]
  },
  {
   "cell_type": "code",
   "execution_count": 5,
   "metadata": {},
   "outputs": [],
   "source": [
    "cleanurl =[]\n",
    "for name, urllist in urlNames:\n",
    "    for url in urllist:\n",
    "        cleanurl.append((name,url))"
   ]
  },
  {
   "cell_type": "code",
   "execution_count": 6,
   "metadata": {},
   "outputs": [
    {
     "data": {
      "text/plain": [
       "('April_2017',\n",
       " 'http://www.financialexpress.com/economy/india-marks-dramatic-change-renewable-energy-capacity-addition-beats-conventional-in-fy17/618605/')"
      ]
     },
     "execution_count": 6,
     "metadata": {},
     "output_type": "execute_result"
    }
   ],
   "source": [
    "cleanurl[300]"
   ]
  },
  {
   "cell_type": "code",
   "execution_count": 7,
   "metadata": {},
   "outputs": [],
   "source": [
    "AllUrls=[]\n",
    "for name,url in cleanurl:\n",
    "    new_url = url.replace(' ','')\n",
    "    AllUrls.append((name,new_url))"
   ]
  },
  {
   "cell_type": "code",
   "execution_count": 8,
   "metadata": {},
   "outputs": [],
   "source": [
    "from newspaper import Article\n",
    "\n",
    "def html_to_text( urls ):\n",
    "    a = Article(urls) \n",
    "    a.download()\n",
    "    a.parse()\n",
    "    #a.nlp()\n",
    "    text = a.text\n",
    "    title = a.title\n",
    "    authors = a.authors\n",
    "    date = a.publish_date\n",
    "    source = a.source_url\n",
    "    #keywords = a.keywords\n",
    "    data =(text,title,authors,date, source)\n",
    "    return(data)"
   ]
  },
  {
   "cell_type": "code",
   "execution_count": 9,
   "metadata": {},
   "outputs": [
    {
     "data": {
      "text/html": [
       "<div>\n",
       "<table border=\"1\" class=\"dataframe\">\n",
       "  <thead>\n",
       "    <tr style=\"text-align: right;\">\n",
       "      <th></th>\n",
       "      <th>month_yr</th>\n",
       "      <th>url</th>\n",
       "    </tr>\n",
       "  </thead>\n",
       "  <tbody>\n",
       "    <tr>\n",
       "      <th>0</th>\n",
       "      <td>April_2011</td>\n",
       "      <td>http://www.thehindu.com/sci-tech/agriculture/a...</td>\n",
       "    </tr>\n",
       "    <tr>\n",
       "      <th>1</th>\n",
       "      <td>April_2011</td>\n",
       "      <td>http://www.thehindu.com/todays-paper/tp-nation...</td>\n",
       "    </tr>\n",
       "    <tr>\n",
       "      <th>2</th>\n",
       "      <td>April_2011</td>\n",
       "      <td>http://timesofindia.indiatimes.com/city/surat/...</td>\n",
       "    </tr>\n",
       "    <tr>\n",
       "      <th>3</th>\n",
       "      <td>April_2011</td>\n",
       "      <td>http://www.financialexpress.com/news/Green-Ind...</td>\n",
       "    </tr>\n",
       "    <tr>\n",
       "      <th>4</th>\n",
       "      <td>April_2011</td>\n",
       "      <td>http://timesofindia.indiatimes.com/city/surat/...</td>\n",
       "    </tr>\n",
       "  </tbody>\n",
       "</table>\n",
       "</div>"
      ],
      "text/plain": [
       "     month_yr                                                url\n",
       "0  April_2011  http://www.thehindu.com/sci-tech/agriculture/a...\n",
       "1  April_2011  http://www.thehindu.com/todays-paper/tp-nation...\n",
       "2  April_2011  http://timesofindia.indiatimes.com/city/surat/...\n",
       "3  April_2011  http://www.financialexpress.com/news/Green-Ind...\n",
       "4  April_2011  http://timesofindia.indiatimes.com/city/surat/..."
      ]
     },
     "execution_count": 9,
     "metadata": {},
     "output_type": "execute_result"
    }
   ],
   "source": [
    "import pandas as pd\n",
    "testURLs = pd.DataFrame(AllUrls)\n",
    "testURLs.columns = [\"month_yr\",\"url\"]\n",
    "testURLs.head()"
   ]
  },
  {
   "cell_type": "code",
   "execution_count": 12,
   "metadata": {},
   "outputs": [],
   "source": [
    "URLcount=testURLs.groupby('month_yr').agg('count')\n",
    "URLcount.to_csv(\"URLCount\")"
   ]
  },
  {
   "cell_type": "code",
   "execution_count": 13,
   "metadata": {},
   "outputs": [
    {
     "name": "stdout",
     "output_type": "stream",
     "text": [
      "Test data already downloaded\n"
     ]
    }
   ],
   "source": [
    "import os\n",
    "import pickle\n",
    "\n",
    "if os.path.exists(\"Test_data_pickle.p\"):\n",
    "    print(\"Test data already downloaded\")\n",
    "    Testdata = pickle.load(open(\"Test_data_pickle.p\", \"rb\"))\n",
    "else:\n",
    "    Testdata =[]\n",
    "    Narticles = testURLs[\"url\"].size\n",
    "    print \"Extracting data from online news weblinks...\\n\"\n",
    "    for i in xrange(0, Narticles):\n",
    "        try:\n",
    "            Testdata.append((html_to_text(testURLs[\"url\"][i]),i))\n",
    "            if( (i+1)%100 == 0 ):\n",
    "                print \"Downloading %d of %d\\n\" % ( i+1, Narticles )\n",
    "        except:\n",
    "            pass\n",
    "    pickle.dump(Testdata, open(\"Test_data_pickle.p\", \"wb\"))    "
   ]
  },
  {
   "cell_type": "code",
   "execution_count": 14,
   "metadata": {},
   "outputs": [],
   "source": [
    "testdf = pd.DataFrame(eval('Testdata'))\n",
    "testdf.columns=['data','ind'] #data column is a list of text title authors and data"
   ]
  },
  {
   "cell_type": "code",
   "execution_count": 15,
   "metadata": {},
   "outputs": [],
   "source": [
    "#use map to separate list into individual columns\n",
    "testdf[\"text\"]=testdf.data.map(lambda x: x[0] if x !=[] else None)\n",
    "testdf[\"title\"]=testdf.data.map(lambda x: x[1] if x !=[] else None)\n",
    "testdf[\"authors\"]=testdf.data.map(lambda x: x[2] if x !=[] else None)\n",
    "testdf[\"date\"]=testdf.data.map(lambda x: x[3] if x !=[] else None)\n",
    "testdf[\"source\"]=testdf.data.map(lambda x: x[4] if x !=[] else None)"
   ]
  },
  {
   "cell_type": "code",
   "execution_count": 16,
   "metadata": {},
   "outputs": [],
   "source": [
    "testdf.drop('data', inplace=True, axis=1)"
   ]
  },
  {
   "cell_type": "code",
   "execution_count": 17,
   "metadata": {},
   "outputs": [],
   "source": [
    "testURLs.reset_index(inplace=True)\n",
    "testdf =pd.merge(testdf, testURLs, left_on='ind', right_on='index', how='outer')"
   ]
  },
  {
   "cell_type": "code",
   "execution_count": 18,
   "metadata": {},
   "outputs": [
    {
     "name": "stdout",
     "output_type": "stream",
     "text": [
      "<class 'pandas.core.frame.DataFrame'>\n",
      "Int64Index: 6290 entries, 0 to 6289\n",
      "Data columns (total 9 columns):\n",
      "ind         6278 non-null float64\n",
      "text        6278 non-null object\n",
      "title       6278 non-null object\n",
      "authors     6278 non-null object\n",
      "date        2614 non-null object\n",
      "source      6278 non-null object\n",
      "index       6290 non-null int64\n",
      "month_yr    6290 non-null object\n",
      "url         6290 non-null object\n",
      "dtypes: float64(1), int64(1), object(7)\n",
      "memory usage: 491.4+ KB\n"
     ]
    }
   ],
   "source": [
    "testdf.info()"
   ]
  },
  {
   "cell_type": "code",
   "execution_count": 69,
   "metadata": {},
   "outputs": [
    {
     "name": "stdout",
     "output_type": "stream",
     "text": [
      "   ind                                               text  \\\n",
      "0  0.0  more-in\\n\\n“Potentially catastrophic” impacts ...   \n",
      "1  1.0  An Assistant Professor of GITAM University Ins...   \n",
      "2  2.0  SURAT: Over 200 delegates from across the coun...   \n",
      "3  3.0  Climate change is at the top of government age...   \n",
      "4  4.0  SURAT: The city resilience strategy after a st...   \n",
      "\n",
      "                                               title  \\\n",
      "0  Prepare for long-term climate change impacts o...   \n",
      "1                         Research on climate change   \n",
      "2        Experts to discuss sustainable urban living   \n",
      "3                                    Green India Inc   \n",
      "4        Resilience strategy for city ready: Experts   \n",
      "\n",
      "                                             authors  date  \\\n",
      "0  [Project Will Be On Display At Iit-delhi S Ope...  None   \n",
      "1                                                 []  None   \n",
      "2                                                 []  None   \n",
      "3                                     [Michael Bear]  None   \n",
      "4                                                 []  None   \n",
      "\n",
      "                               source  index    month_yr  \\\n",
      "0             http://www.thehindu.com      0  April_2011   \n",
      "1             http://www.thehindu.com      1  April_2011   \n",
      "2  http://timesofindia.indiatimes.com      2  April_2011   \n",
      "3     http://www.financialexpress.com      3  April_2011   \n",
      "4  http://timesofindia.indiatimes.com      4  April_2011   \n",
      "\n",
      "                                                 url  \n",
      "0  http://www.thehindu.com/sci-tech/agriculture/a...  \n",
      "1  http://www.thehindu.com/todays-paper/tp-nation...  \n",
      "2  http://timesofindia.indiatimes.com/city/surat/...  \n",
      "3  http://www.financialexpress.com/news/Green-Ind...  \n",
      "4  http://timesofindia.indiatimes.com/city/surat/...  \n"
     ]
    }
   ],
   "source": [
    "print(testdf.head())"
   ]
  },
  {
   "cell_type": "code",
   "execution_count": null,
   "metadata": {},
   "outputs": [],
   "source": []
  }
 ],
 "metadata": {
  "kernelspec": {
   "display_name": "Python 2",
   "language": "python",
   "name": "python2"
  },
  "language_info": {
   "codemirror_mode": {
    "name": "ipython",
    "version": 2
   },
   "file_extension": ".py",
   "mimetype": "text/x-python",
   "name": "python",
   "nbconvert_exporter": "python",
   "pygments_lexer": "ipython2",
   "version": "2.7.13"
  }
 },
 "nbformat": 4,
 "nbformat_minor": 2
}
